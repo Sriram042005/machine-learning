{
  "nbformat": 4,
  "nbformat_minor": 0,
  "metadata": {
    "colab": {
      "provenance": []
    },
    "kernelspec": {
      "name": "python3",
      "display_name": "Python 3"
    },
    "language_info": {
      "name": "python"
    }
  },
  "cells": [
    {
      "cell_type": "code",
      "source": [
        "import numpy as np\n",
        "from sklearn.datasets import load_diabetes\n",
        "from sklearn.model_selection import train_test_split\n",
        "from sklearn.linear_model import LinearRegression\n",
        "from sklearn.preprocessing import PolynomialFeatures\n",
        "from sklearn.metrics import mean_squared_error\n",
        "from sklearn.svm import SVR\n",
        "from sklearn.tree import DecisionTreeRegressor\n",
        "\n",
        "# Load the diabetes dataset\n",
        "diabetes = load_diabetes()\n",
        "x = diabetes.data\n",
        "y = diabetes.target\n",
        "\n",
        "# Split data into training and testing sets\n",
        "x_train, x_test, y_train, y_test = train_test_split(x, y, test_size=0.2, random_state=42)\n",
        "\n",
        "# Polynomial Regression\n",
        "degree = 2\n",
        "poly_features = PolynomialFeatures(degree=degree)\n",
        "x_train_poly = poly_features.fit_transform(x_train)\n",
        "x_test_poly = poly_features.transform(x_test)\n",
        "poly_reg = LinearRegression()\n",
        "poly_reg.fit(x_train_poly, y_train)\n",
        "y_poly_train_pred = poly_reg.predict(x_train_poly)\n",
        "y_poly_test_pred = poly_reg.predict(x_test_poly)\n",
        "poly_train_rmse = np.sqrt(mean_squared_error(y_train, y_poly_train_pred))\n",
        "poly_test_rmse = np.sqrt(mean_squared_error(y_test, y_poly_test_pred))\n",
        "\n",
        "# Support Vector Regression (SVR)\n",
        "svr = SVR(kernel='rbf')\n",
        "svr.fit(x_train, y_train)\n",
        "y_svr_train_pred = svr.predict(x_train)\n",
        "y_svr_test_pred = svr.predict(x_test)\n",
        "svr_train_rmse = np.sqrt(mean_squared_error(y_train, y_svr_train_pred))\n",
        "svr_test_rmse = np.sqrt(mean_squared_error(y_test, y_svr_test_pred))\n",
        "\n",
        "# Decision Tree Regression\n",
        "decision_tree = DecisionTreeRegressor(random_state=42)\n",
        "decision_tree.fit(x_train, y_train)\n",
        "y_dt_train_pred = decision_tree.predict(x_train)\n",
        "y_dt_test_pred = decision_tree.predict(x_test)\n",
        "dt_train_rmse = np.sqrt(mean_squared_error(y_train, y_dt_train_pred))\n",
        "dt_test_rmse = np.sqrt(mean_squared_error(y_test, y_dt_test_pred))\n",
        "\n",
        "# Print RMSE for each model\n",
        "print(\"Polynomial Regression:\")\n",
        "print(f\"Train RMSE: {poly_train_rmse:.2f}\")\n",
        "print(f\"Test RMSE: {poly_test_rmse:.2f}\\n\")\n",
        "\n",
        "print(\"Support Vector Regression:\")\n",
        "print(f\"Train RMSE: {svr_train_rmse:.2f}\")\n",
        "print(f\"Test RMSE: {svr_test_rmse:.2f}\\n\")\n",
        "\n",
        "print(\"Decision Tree Regression:\")\n",
        "print(f\"Train RMSE: {dt_train_rmse:.2f}\")\n",
        "print(f\"Test RMSE: {dt_test_rmse:.2f}\")\n"
      ],
      "metadata": {
        "id": "KY4Ppa6suOMK",
        "colab": {
          "base_uri": "https://localhost:8080/"
        },
        "outputId": "5e761737-0ebc-4b51-c69c-86f0792f46bc"
      },
      "execution_count": null,
      "outputs": [
        {
          "output_type": "stream",
          "name": "stdout",
          "text": [
            "Polynomial Regression:\n",
            "Train RMSE: 48.92\n",
            "Test RMSE: 55.64\n",
            "\n",
            "Support Vector Regression:\n",
            "Train RMSE: 71.15\n",
            "Test RMSE: 65.83\n",
            "\n",
            "Decision Tree Regression:\n",
            "Train RMSE: 0.00\n",
            "Test RMSE: 70.55\n"
          ]
        }
      ]
    },
    {
      "cell_type": "code",
      "source": [],
      "metadata": {
        "id": "Zv01KvK7sdhr"
      },
      "execution_count": null,
      "outputs": []
    }
  ]
}