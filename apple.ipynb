{
  "nbformat": 4,
  "nbformat_minor": 0,
  "metadata": {
    "colab": {
      "provenance": []
    },
    "kernelspec": {
      "name": "python3",
      "display_name": "Python 3"
    },
    "language_info": {
      "name": "python"
    }
  },
  "cells": [
    {
      "cell_type": "code",
      "execution_count": null,
      "metadata": {
        "colab": {
          "base_uri": "https://localhost:8080/"
        },
        "id": "SSHClzJTqE7b",
        "outputId": "069d70d9-33c4-4162-d76f-3b6506778c7f"
      },
      "outputs": [
        {
          "output_type": "stream",
          "name": "stdout",
          "text": [
            "[1]\n"
          ]
        }
      ],
      "source": [
        " from sklearn import tree\n",
        "features = [[140,1],[130,1],[150,0],[170,0]]\n",
        "labels =[0,0,1,1]\n",
        "clf =tree.DecisionTreeClassifier()\n",
        "clf=clf.fit(features,labels)\n",
        "output = clf.predict([[150,0]])\n",
        "print(output)"
      ]
    }
  ]
}